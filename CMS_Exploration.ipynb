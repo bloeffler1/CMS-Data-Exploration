{
 "cells": [
  {
   "cell_type": "markdown",
   "id": "72fcbe6f",
   "metadata": {},
   "source": [
    "# **Medicare Beneficiary Cost Supplement Analysis & Reporting**\n",
    "> **Created By: github User [@bloeffler1](https://github.com/bloeffler1/CMS-Data-Exploration/tree/main \n",
    "\"optional title\")**"
   ]
  },
  {
   "cell_type": "markdown",
   "id": "e7e63084",
   "metadata": {},
   "source": [
    "## Table of Contents\n",
    "1. [Abstract](#Abstract)"
   ]
  },
  {
   "cell_type": "markdown",
   "id": "07007410",
   "metadata": {},
   "source": [
    "## **Abstract**\n",
    "\n",
    "Test writing here\n"
   ]
  }
 ],
 "metadata": {
  "kernelspec": {
   "display_name": "Python 3 (ipykernel)",
   "language": "python",
   "name": "python3"
  },
  "language_info": {
   "codemirror_mode": {
    "name": "ipython",
    "version": 3
   },
   "file_extension": ".py",
   "mimetype": "text/x-python",
   "name": "python",
   "nbconvert_exporter": "python",
   "pygments_lexer": "ipython3",
   "version": "3.11.5"
  }
 },
 "nbformat": 4,
 "nbformat_minor": 5
}
