{
 "cells": [
  {
   "cell_type": "markdown",
   "id": "3f860c03",
   "metadata": {},
   "source": [
    "# **Medicare Beneficiary Cost Supplement Analysis & Reporting**\n",
    "> **Created By: github User [@bloeffler1](https://github.com/bloeffler1/CMS-Data-Exploration/tree/main \n",
    "\"optional title\")**"
   ]
  },
  {
   "cell_type": "markdown",
   "id": "75bed388",
   "metadata": {},
   "source": [
    "## Table of Contents\n",
    "<a id=\"Abstract\"></a>\n",
    "[Go to anchor](#Abstract)"
   ]
  },
  {
   "cell_type": "markdown",
   "id": "72680297",
   "metadata": {},
   "source": [
    "## **Abstract**\n",
    "\n",
    "Test writing here\n"
   ]
  }
 ],
 "metadata": {
  "kernelspec": {
   "display_name": "Python 3 (ipykernel)",
   "language": "python",
   "name": "python3"
  },
  "language_info": {
   "codemirror_mode": {
    "name": "ipython",
    "version": 3
   },
   "file_extension": ".py",
   "mimetype": "text/x-python",
   "name": "python",
   "nbconvert_exporter": "python",
   "pygments_lexer": "ipython3",
   "version": "3.11.5"
  }
 },
 "nbformat": 4,
 "nbformat_minor": 5
}
